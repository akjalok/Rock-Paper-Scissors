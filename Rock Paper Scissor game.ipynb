{
 "cells": [
  {
   "cell_type": "code",
   "execution_count": 1,
   "id": "62a97a0f",
   "metadata": {},
   "outputs": [],
   "source": [
    "import random"
   ]
  },
  {
   "cell_type": "code",
   "execution_count": 5,
   "id": "fb34e38b",
   "metadata": {},
   "outputs": [
    {
     "name": "stdout",
     "output_type": "stream",
     "text": [
      "Player 1 = paper\n",
      "Player 2 = paper\n",
      "Tie.\n",
      "press 0 to go again\n",
      "Want to continue?0/10\n",
      "Player 1 = paper\n",
      "Player 2 = scissors\n",
      "Player 2 wins.\n",
      "press 0 to go again\n",
      "Want to continue?0/10\n",
      "Player 1 = scissors\n",
      "Player 2 = paper\n",
      "Player 1 wins.\n",
      "press 0 to go again\n",
      "Want to continue?0/11\n"
     ]
    }
   ],
   "source": [
    "choices =[\"rock\",\"paper\",\"scissors\"]\n",
    "player_1 = random.choice(choices)\n",
    "player_2 = random.choice(choices)\n",
    "cont=0\n",
    "while cont==0:\n",
    "    player_1 = random.choice(choices)\n",
    "    player_2 = random.choice(choices)\n",
    "    print(\"Player 1 = {}\".format(player_1))\n",
    "    print(\"Player 2 = {}\".format(player_2))\n",
    "    if player_1==\"rock\":\n",
    "        if player_2 ==\"rock\":\n",
    "            print(\"Tie.\")\n",
    "            print(\"press 0 to go again\")\n",
    "        elif player_2 == \"scissors\":\n",
    "            print(\"Player 1 wins.\")\n",
    "            print(\"press 0 to go again\")\n",
    "        else:\n",
    "            print(\"Player 2 wins.\")\n",
    "            print(\"press 0 to go again\")\n",
    "    elif player_1 == \"paper\":\n",
    "        if player_2 == \"rock\":\n",
    "            print(\"Player 1 wins.\")\n",
    "            print(\"press 0 to go again\")\n",
    "        elif player_2 == \"scissors\":\n",
    "            print(\"Player 2 wins.\")\n",
    "            print(\"press 0 to go again\")\n",
    "        else:\n",
    "            print(\"Tie.\")\n",
    "            print(\"press 0 to go again\")\n",
    "    else:\n",
    "        if player_2 == \"rock\":\n",
    "            print(\"Player 2 wins.\")\n",
    "            print(\"press 0 to go again\")\n",
    "        elif player_2 == \"scissors\":\n",
    "            print(\"Tie.\")\n",
    "            print(\"press 1 to go again\")\n",
    "        else:\n",
    "            print(\"Player 1 wins.\")\n",
    "            print(\"press 0 to go again\")\n",
    "    cont=int(input(\"Want to continue?0/1\"))"
   ]
  },
  {
   "cell_type": "code",
   "execution_count": null,
   "id": "66697ad7",
   "metadata": {},
   "outputs": [],
   "source": []
  },
  {
   "cell_type": "code",
   "execution_count": null,
   "id": "3fc7b3bb",
   "metadata": {},
   "outputs": [],
   "source": []
  }
 ],
 "metadata": {
  "kernelspec": {
   "display_name": "Python 3 (ipykernel)",
   "language": "python",
   "name": "python3"
  },
  "language_info": {
   "codemirror_mode": {
    "name": "ipython",
    "version": 3
   },
   "file_extension": ".py",
   "mimetype": "text/x-python",
   "name": "python",
   "nbconvert_exporter": "python",
   "pygments_lexer": "ipython3",
   "version": "3.9.13"
  }
 },
 "nbformat": 4,
 "nbformat_minor": 5
}
